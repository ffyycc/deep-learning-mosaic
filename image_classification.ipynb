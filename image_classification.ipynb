{
  "cells": [
    {
      "attachments": {},
      "cell_type": "markdown",
      "metadata": {
        "id": "zY9P7VYyqRhH"
      },
      "source": [
        "\n",
        "## Import Libraries\n",
        "\n"
      ]
    },
    {
      "cell_type": "code",
      "execution_count": 14,
      "metadata": {
        "id": "_YgmK1IolgcG"
      },
      "outputs": [],
      "source": [
        "import numpy as np\n",
        "from numpy import argmax\n",
        "import tensorflow as tf\n",
        "import matplotlib.pyplot as plt\n",
        "from tensorflow.keras.applications.vgg16 import preprocess_input\n",
        "from tensorflow.keras.preprocessing import image\n",
        "from tensorflow.keras.applications import ResNet50\n",
        "from tensorflow.keras.datasets import cifar10\n",
        "from tensorflow.keras.models import Sequential, Model\n",
        "from tensorflow.keras.layers import Dense, Flatten, Conv2D, MaxPooling2D, GlobalAveragePooling2D, Dropout, AveragePooling2D\n",
        "from tensorflow.keras.preprocessing.image import ImageDataGenerator\n",
        "from keras.optimizers import Adam, SGD\n",
        "from keras.wrappers.scikit_learn import KerasClassifier\n",
        "from sklearn.metrics import classification_report, roc_auc_score, confusion_matrix\n",
        "from sklearn.model_selection import GridSearchCV\n"
      ]
    },
    {
      "attachments": {},
      "cell_type": "markdown",
      "metadata": {
        "id": "yMcAh-nQqdJb"
      },
      "source": [
        "## Data Preprocessing"
      ]
    },
    {
      "cell_type": "code",
      "execution_count": 5,
      "metadata": {
        "colab": {
          "base_uri": "https://localhost:8080/"
        },
        "id": "LooppsJInm13",
        "outputId": "bd6a219c-3a75-4e8c-eab8-3e7a62b5c56b"
      },
      "outputs": [],
      "source": [
        "# Load the dataset\n",
        "(train_images, train_labels), (test_images, test_labels) = cifar10.load_data()\n",
        "\n",
        "# Filter for the classes we want (Cat, Dog, Airplane, Automobile)\n",
        "selected_classes = [3, 5, 0, 1]  # 3: cat, 5: dog, 0: airplane, 1: automobile in the original dataset\n",
        "\n",
        "# Create masks for train and test datasets\n",
        "train_mask = np.isin(train_labels, selected_classes).reshape(-1)\n",
        "test_mask = np.isin(test_labels, selected_classes).reshape(-1)\n",
        "\n",
        "# Apply masks to datasets\n",
        "train_images, train_labels = train_images[train_mask], train_labels[train_mask]\n",
        "test_images, test_labels = test_images[test_mask], test_labels[test_mask]\n",
        "\n",
        "# Map the labels to our new labels, and one-hot encoding labels\n",
        "label_dict = {3: 0, 5: 1, 0: 2, 1: 3}\n",
        "train_labels = tf.keras.utails.to_categorical([label_dict[label[0]] for label in train_labels])\n",
        "test_labels = tf.keras.utils.to_categorical([label_dict[label[0]] for label in test_labels])\n",
        "\n",
        "# Normalize pixel values to be between 0 and 1\n",
        "train_images, test_images = train_images / 255.0, test_images / 255.0\n",
        "\n",
        "# Define your data augmentation\n",
        "datagen = ImageDataGenerator(\n",
        "    rotation_range=15,\n",
        "    width_shift_range=0.1,\n",
        "    height_shift_range=0.1,\n",
        "    horizontal_flip=True,\n",
        "    zoom_range=0.1\n",
        ")\n",
        "\n",
        "# Compute quantities required for featurewise normalization\n",
        "datagen.fit(train_images)\n",
        "\n",
        "training_data = datagen.flow(train_images, train_labels, batch_size=64)\n"
      ]
    },
    {
      "attachments": {},
      "cell_type": "markdown",
      "metadata": {},
      "source": [
        "## Modeling"
      ]
    },
    {
      "attachments": {},
      "cell_type": "markdown",
      "metadata": {
        "id": "ybvXqHzKdLdt"
      },
      "source": [
        "### Baseline CNN"
      ]
    },
    {
      "cell_type": "code",
      "execution_count": 16,
      "metadata": {},
      "outputs": [],
      "source": [
        "# from keras.models import Sequential\n",
        "# from keras.layers import Conv2D, Dense, Flatten, Dropout\n",
        "# from keras.wrappers.scikit_learn import KerasClassifier\n",
        "# from keras.optimizers import Adam, SGD\n",
        "# from sklearn.model_selection import GridSearchCV\n",
        "\n",
        "# # Define a function to create a Keras neural network model\n",
        "# def create_model(hidden_layers=1, neurons=16, optimizer=\"adam\"):\n",
        "#     model = Sequential()\n",
        "#     model.add(Conv2D(64, (3, 3), activation='relu', input_shape=(32, 32, 3)))\n",
        "    \n",
        "#     for _ in range(hidden_layers - 1):\n",
        "#         model.add(Conv2D(neurons, (3, 3), activation='relu'))\n",
        "#         model.add(Dropout(0.2))\n",
        "    \n",
        "#     model.add(Flatten())\n",
        "#     model.add(Dense(128, activation='relu'))\n",
        "#     model.add(Dropout(0.5))\n",
        "#     model.add(Dense(4, activation='softmax'))\n",
        "        \n",
        "#     model.compile(loss=\"categorical_crossentropy\", optimizer=optimizer, metrics=[\"accuracy\"])\n",
        "#     return model\n",
        "\n",
        "# keras_clf = KerasClassifier(build_fn=create_model, verbose=0)\n",
        "\n",
        "# param_grid = {\n",
        "#     \"hidden_layers\": [2, 3],\n",
        "#     \"neurons\": [16, 32],\n",
        "#     'optimizer': ['adam', 'sgd'],\n",
        "#     \"batch_size\": [20, 40],\n",
        "#     \"epochs\": [10, 20],\n",
        "# }\n",
        "\n",
        "# grid_search = GridSearchCV(estimator=keras_clf, param_grid=param_grid, cv=3, n_jobs=1)\n",
        "\n",
        "# # Fit the best estimator on the entire training dataset\n",
        "# best_estimator = grid_search.best_estimator_\n",
        "# best_estimator.fit(training_data)"
      ]
    },
    {
      "cell_type": "code",
      "execution_count": 12,
      "metadata": {
        "colab": {
          "base_uri": "https://localhost:8080/",
          "height": 416
        },
        "id": "IE9N4RCqdRzd",
        "outputId": "a172caaf-e9a7-4eaf-9618-a66cd3a44efb"
      },
      "outputs": [
        {
          "name": "stdout",
          "output_type": "stream",
          "text": [
            "Epoch 1/50\n",
            "313/313 [==============================] - 18s 56ms/step - loss: 0.9773 - accuracy: 0.5407 - val_loss: 0.7213 - val_accuracy: 0.6805\n",
            "Epoch 2/50\n",
            "313/313 [==============================] - 17s 55ms/step - loss: 0.7510 - accuracy: 0.6622 - val_loss: 0.6224 - val_accuracy: 0.7228\n",
            "Epoch 3/50\n",
            "313/313 [==============================] - 18s 56ms/step - loss: 0.6696 - accuracy: 0.7088 - val_loss: 0.5408 - val_accuracy: 0.7730\n",
            "Epoch 4/50\n",
            "313/313 [==============================] - 18s 56ms/step - loss: 0.6364 - accuracy: 0.7254 - val_loss: 0.5253 - val_accuracy: 0.7825\n",
            "Epoch 5/50\n",
            "313/313 [==============================] - 18s 56ms/step - loss: 0.6082 - accuracy: 0.7431 - val_loss: 0.4831 - val_accuracy: 0.7977\n",
            "Epoch 6/50\n",
            "313/313 [==============================] - 18s 56ms/step - loss: 0.5809 - accuracy: 0.7552 - val_loss: 0.5031 - val_accuracy: 0.7793\n",
            "Epoch 7/50\n",
            "313/313 [==============================] - 18s 56ms/step - loss: 0.5569 - accuracy: 0.7684 - val_loss: 0.4700 - val_accuracy: 0.8120\n",
            "Epoch 8/50\n",
            "313/313 [==============================] - 18s 57ms/step - loss: 0.5446 - accuracy: 0.7735 - val_loss: 0.4302 - val_accuracy: 0.8225\n",
            "Epoch 9/50\n",
            "313/313 [==============================] - 18s 57ms/step - loss: 0.5204 - accuracy: 0.7815 - val_loss: 0.4953 - val_accuracy: 0.7935\n",
            "Epoch 10/50\n",
            "313/313 [==============================] - 18s 57ms/step - loss: 0.5083 - accuracy: 0.7907 - val_loss: 0.4044 - val_accuracy: 0.8305\n",
            "Epoch 11/50\n",
            "313/313 [==============================] - 18s 57ms/step - loss: 0.5048 - accuracy: 0.7878 - val_loss: 0.4038 - val_accuracy: 0.8360\n",
            "Epoch 12/50\n",
            "313/313 [==============================] - 18s 58ms/step - loss: 0.4858 - accuracy: 0.7983 - val_loss: 0.4004 - val_accuracy: 0.8303\n",
            "Epoch 13/50\n",
            "313/313 [==============================] - 18s 59ms/step - loss: 0.4731 - accuracy: 0.8037 - val_loss: 0.3834 - val_accuracy: 0.8425\n",
            "Epoch 14/50\n",
            "313/313 [==============================] - 18s 58ms/step - loss: 0.4705 - accuracy: 0.8054 - val_loss: 0.3886 - val_accuracy: 0.8380\n",
            "Epoch 15/50\n",
            "313/313 [==============================] - 18s 57ms/step - loss: 0.4601 - accuracy: 0.8050 - val_loss: 0.3771 - val_accuracy: 0.8415\n",
            "Epoch 16/50\n",
            "313/313 [==============================] - 18s 57ms/step - loss: 0.4545 - accuracy: 0.8127 - val_loss: 0.4319 - val_accuracy: 0.8235\n",
            "Epoch 17/50\n",
            "313/313 [==============================] - 18s 57ms/step - loss: 0.4490 - accuracy: 0.8130 - val_loss: 0.4225 - val_accuracy: 0.8288\n",
            "Epoch 18/50\n",
            "313/313 [==============================] - 18s 58ms/step - loss: 0.4441 - accuracy: 0.8166 - val_loss: 0.3640 - val_accuracy: 0.8505\n",
            "Epoch 19/50\n",
            "313/313 [==============================] - 18s 58ms/step - loss: 0.4428 - accuracy: 0.8154 - val_loss: 0.3643 - val_accuracy: 0.8518\n",
            "Epoch 20/50\n",
            "313/313 [==============================] - 18s 58ms/step - loss: 0.4301 - accuracy: 0.8210 - val_loss: 0.3692 - val_accuracy: 0.8468\n",
            "Epoch 21/50\n",
            "313/313 [==============================] - 18s 56ms/step - loss: 0.4306 - accuracy: 0.8229 - val_loss: 0.3831 - val_accuracy: 0.8418\n",
            "Epoch 22/50\n",
            "313/313 [==============================] - 18s 56ms/step - loss: 0.4211 - accuracy: 0.8256 - val_loss: 0.3526 - val_accuracy: 0.8575\n",
            "Epoch 23/50\n",
            "313/313 [==============================] - 18s 56ms/step - loss: 0.4123 - accuracy: 0.8274 - val_loss: 0.3614 - val_accuracy: 0.8540\n",
            "Epoch 24/50\n",
            "313/313 [==============================] - 18s 58ms/step - loss: 0.4086 - accuracy: 0.8256 - val_loss: 0.4227 - val_accuracy: 0.8290\n",
            "Epoch 25/50\n",
            "313/313 [==============================] - 18s 57ms/step - loss: 0.3998 - accuracy: 0.8339 - val_loss: 0.3531 - val_accuracy: 0.8540\n",
            "Epoch 26/50\n",
            "313/313 [==============================] - 18s 57ms/step - loss: 0.4004 - accuracy: 0.8338 - val_loss: 0.3561 - val_accuracy: 0.8565\n",
            "Epoch 27/50\n",
            "313/313 [==============================] - 18s 57ms/step - loss: 0.3939 - accuracy: 0.8357 - val_loss: 0.3512 - val_accuracy: 0.8597\n",
            "Epoch 28/50\n",
            "313/313 [==============================] - 18s 57ms/step - loss: 0.4067 - accuracy: 0.8327 - val_loss: 0.3691 - val_accuracy: 0.8568\n",
            "Epoch 29/50\n",
            "313/313 [==============================] - 18s 57ms/step - loss: 0.3918 - accuracy: 0.8393 - val_loss: 0.3501 - val_accuracy: 0.8543\n",
            "Epoch 30/50\n",
            "313/313 [==============================] - 19s 59ms/step - loss: 0.3897 - accuracy: 0.8404 - val_loss: 0.3457 - val_accuracy: 0.8635\n",
            "Epoch 31/50\n",
            "313/313 [==============================] - 19s 59ms/step - loss: 0.3858 - accuracy: 0.8402 - val_loss: 0.3600 - val_accuracy: 0.8500\n",
            "Epoch 32/50\n",
            "313/313 [==============================] - 18s 58ms/step - loss: 0.3842 - accuracy: 0.8417 - val_loss: 0.3424 - val_accuracy: 0.8620\n",
            "Epoch 33/50\n",
            "313/313 [==============================] - 18s 57ms/step - loss: 0.3770 - accuracy: 0.8432 - val_loss: 0.3334 - val_accuracy: 0.8625\n",
            "Epoch 34/50\n",
            "313/313 [==============================] - 18s 57ms/step - loss: 0.3779 - accuracy: 0.8439 - val_loss: 0.3477 - val_accuracy: 0.8587\n",
            "Epoch 35/50\n",
            "313/313 [==============================] - 18s 58ms/step - loss: 0.3760 - accuracy: 0.8442 - val_loss: 0.3498 - val_accuracy: 0.8575\n",
            "Epoch 36/50\n",
            "313/313 [==============================] - 18s 58ms/step - loss: 0.3767 - accuracy: 0.8474 - val_loss: 0.3304 - val_accuracy: 0.8708\n",
            "Epoch 37/50\n",
            "313/313 [==============================] - 18s 57ms/step - loss: 0.3693 - accuracy: 0.8483 - val_loss: 0.3390 - val_accuracy: 0.8637\n",
            "Epoch 38/50\n",
            "313/313 [==============================] - 18s 57ms/step - loss: 0.3672 - accuracy: 0.8496 - val_loss: 0.3217 - val_accuracy: 0.8695\n",
            "Epoch 39/50\n",
            "313/313 [==============================] - 18s 58ms/step - loss: 0.3642 - accuracy: 0.8494 - val_loss: 0.3336 - val_accuracy: 0.8677\n",
            "Epoch 40/50\n",
            "313/313 [==============================] - 18s 59ms/step - loss: 0.3624 - accuracy: 0.8496 - val_loss: 0.3307 - val_accuracy: 0.8708\n",
            "Epoch 41/50\n",
            "313/313 [==============================] - 18s 58ms/step - loss: 0.3591 - accuracy: 0.8514 - val_loss: 0.3228 - val_accuracy: 0.8780\n",
            "Epoch 42/50\n",
            "313/313 [==============================] - 18s 58ms/step - loss: 0.3520 - accuracy: 0.8567 - val_loss: 0.3422 - val_accuracy: 0.8683\n",
            "Epoch 43/50\n",
            "313/313 [==============================] - 18s 58ms/step - loss: 0.3594 - accuracy: 0.8520 - val_loss: 0.3212 - val_accuracy: 0.8742\n",
            "Epoch 44/50\n",
            "313/313 [==============================] - 19s 59ms/step - loss: 0.3527 - accuracy: 0.8589 - val_loss: 0.3542 - val_accuracy: 0.8687\n",
            "Epoch 45/50\n",
            "313/313 [==============================] - 18s 58ms/step - loss: 0.3529 - accuracy: 0.8565 - val_loss: 0.3546 - val_accuracy: 0.8600\n",
            "Epoch 46/50\n",
            "313/313 [==============================] - 18s 57ms/step - loss: 0.3482 - accuracy: 0.8573 - val_loss: 0.3412 - val_accuracy: 0.8695\n",
            "Epoch 47/50\n",
            "313/313 [==============================] - 18s 56ms/step - loss: 0.3399 - accuracy: 0.8598 - val_loss: 0.3539 - val_accuracy: 0.8643\n",
            "Epoch 48/50\n",
            "313/313 [==============================] - 18s 56ms/step - loss: 0.3477 - accuracy: 0.8582 - val_loss: 0.3598 - val_accuracy: 0.8648\n",
            "Epoch 49/50\n",
            "313/313 [==============================] - 17s 56ms/step - loss: 0.3386 - accuracy: 0.8627 - val_loss: 0.3682 - val_accuracy: 0.8533\n",
            "Epoch 50/50\n",
            "313/313 [==============================] - 17s 56ms/step - loss: 0.3407 - accuracy: 0.8585 - val_loss: 0.3181 - val_accuracy: 0.8670\n"
          ]
        }
      ],
      "source": [
        "# Model architecture\n",
        "cnn_model = Sequential([\n",
        "    Conv2D(128, (3, 3), activation='relu', input_shape=(32, 32, 3)),\n",
        "    MaxPooling2D((2, 2)),\n",
        "    Dropout(0.2),\n",
        "    Conv2D(128, (3, 3), activation='relu'),\n",
        "    MaxPooling2D((2, 2)),\n",
        "    Dropout(0.2),\n",
        "    Conv2D(128, (3, 3), activation='relu'),\n",
        "    Flatten(),\n",
        "    Dense(128, activation='relu'),\n",
        "    Dropout(0.5), \n",
        "    Dense(4, activation='softmax')\n",
        "])\n",
        "\n",
        "# Compile the model\n",
        "cnn_model.compile(optimizer='adam',\n",
        "              loss=\"categorical_crossentropy\",\n",
        "              metrics=['accuracy'])\n",
        "\n",
        "# Train the model using data augmentation generator\n",
        "history = cnn_model.fit(datagen.flow(train_images, train_labels, batch_size=64),\n",
        "                        epochs=50, validation_data=(test_images, test_labels))\n",
        "\n",
        "# Save model\n",
        "cnn_model.save('cnn.h5')\n"
      ]
    },
    {
      "attachments": {},
      "cell_type": "markdown",
      "metadata": {},
      "source": [
        "Evaluate the model\n"
      ]
    },
    {
      "cell_type": "code",
      "execution_count": 15,
      "metadata": {},
      "outputs": [
        {
          "name": "stdout",
          "output_type": "stream",
          "text": [
            "125/125 [==============================] - 1s 9ms/step\n",
            "CNN Classification Report:\n",
            "               precision    recall  f1-score   support\n",
            "\n",
            "           0       0.76      0.81      0.78      1000\n",
            "           1       0.83      0.74      0.78      1000\n",
            "           2       0.92      0.95      0.94      1000\n",
            "           3       0.96      0.97      0.96      1000\n",
            "\n",
            "    accuracy                           0.87      4000\n",
            "   macro avg       0.87      0.87      0.87      4000\n",
            "weighted avg       0.87      0.87      0.87      4000\n",
            "\n",
            "AUC: 0.9771002499999999\n",
            "CNN Confusion Matrix:\n",
            " [[806 138  39  17]\n",
            " [220 738  33   9]\n",
            " [ 22   7 952  19]\n",
            " [  8   8  12 972]]\n"
          ]
        }
      ],
      "source": [
        "# First, get the probabilities\n",
        "test_pred_probs = cnn_model.predict(test_images)\n",
        "\n",
        "# Then, convert the probabilities to class labels\n",
        "test_pred_classes = argmax(test_pred_probs, axis=1)\n",
        "\n",
        "# Getting the classification report\n",
        "print(\"CNN Classification Report:\\n\", classification_report(argmax(test_labels, axis=1), test_pred_classes))  # Convert one-hot to integers\n",
        "\n",
        "# Calculating ROC AUC\n",
        "roc_auc = roc_auc_score(argmax(test_labels, axis=1), test_pred_probs, multi_class='ovr')\n",
        "print(\"CNN AUC:\", roc_auc)\n",
        "\n",
        "# Getting the confusion matrix\n",
        "conf_mat = confusion_matrix(argmax(test_labels, axis=1), test_pred_classes)\n",
        "print(\"CNN Confusion Matrix:\\n\", conf_mat)"
      ]
    },
    {
      "attachments": {},
      "cell_type": "markdown",
      "metadata": {
        "id": "MjWrAsindWlo"
      },
      "source": [
        "### Resnet"
      ]
    },
    {
      "cell_type": "code",
      "execution_count": 35,
      "metadata": {
        "colab": {
          "base_uri": "https://localhost:8080/"
        },
        "id": "c6B1ycYRdFvQ",
        "outputId": "6e120892-d053-4795-ceff-39e7e4c784d7"
      },
      "outputs": [
        {
          "name": "stdout",
          "output_type": "stream",
          "text": [
            "Epoch 1/10\n",
            "250/250 [==============================] - 22s 81ms/step - loss: 1.2797 - accuracy: 0.4127 - val_loss: 1.1553 - val_accuracy: 0.5157\n",
            "Epoch 2/10\n",
            "250/250 [==============================] - 20s 78ms/step - loss: 1.1322 - accuracy: 0.4951 - val_loss: 1.0960 - val_accuracy: 0.5132\n",
            "Epoch 3/10\n",
            "250/250 [==============================] - 20s 78ms/step - loss: 1.0872 - accuracy: 0.5171 - val_loss: 1.0593 - val_accuracy: 0.5343\n",
            "Epoch 4/10\n",
            "250/250 [==============================] - 20s 78ms/step - loss: 1.0542 - accuracy: 0.5368 - val_loss: 1.0420 - val_accuracy: 0.5443\n",
            "Epoch 5/10\n",
            "250/250 [==============================] - 20s 79ms/step - loss: 1.0347 - accuracy: 0.5479 - val_loss: 1.0119 - val_accuracy: 0.5567\n",
            "Epoch 6/10\n",
            "250/250 [==============================] - 20s 78ms/step - loss: 1.0160 - accuracy: 0.5571 - val_loss: 1.0014 - val_accuracy: 0.5617\n",
            "Epoch 7/10\n",
            "250/250 [==============================] - 20s 79ms/step - loss: 1.0061 - accuracy: 0.5665 - val_loss: 0.9797 - val_accuracy: 0.5840\n",
            "Epoch 8/10\n",
            "250/250 [==============================] - 20s 79ms/step - loss: 0.9986 - accuracy: 0.5641 - val_loss: 1.0240 - val_accuracy: 0.5415\n",
            "Epoch 9/10\n",
            "250/250 [==============================] - 20s 79ms/step - loss: 0.9852 - accuracy: 0.5744 - val_loss: 0.9876 - val_accuracy: 0.5515\n",
            "Epoch 10/10\n",
            "250/250 [==============================] - 20s 79ms/step - loss: 0.9749 - accuracy: 0.5768 - val_loss: 0.9979 - val_accuracy: 0.5537\n"
          ]
        },
        {
          "data": {
            "text/plain": [
              "<keras.callbacks.History at 0x1ba03484490>"
            ]
          },
          "execution_count": 35,
          "metadata": {},
          "output_type": "execute_result"
        }
      ],
      "source": [
        "# Model architecture\n",
        "base_model = ResNet50(weights='imagenet', include_top=False, input_shape=(32, 32, 3))\n",
        "\n",
        "# Add a new top layer\n",
        "x = base_model.output\n",
        "x = GlobalAveragePooling2D()(x)\n",
        "predictions = Dense(4, activation='softmax')(x)\n",
        "\n",
        "# this is the model we will train\n",
        "res_model = Model(inputs=base_model.input, outputs=predictions)\n",
        "\n",
        "# first, we only train the top layers (which were randomly initialized)\n",
        "for layer in base_model.layers:\n",
        "    layer.trainable = False\n",
        "\n",
        "# Compile the model\n",
        "res_model.compile(optimizer='adam',\n",
        "              loss=tf.keras.losses.CategoricalCrossentropy(),\n",
        "              metrics=['accuracy'])\n",
        "\n",
        "# Train the model\n",
        "res_model.fit(train_images, train_labels, epochs=10, batch_size=64, validation_split=0.2)\n",
        "\n",
        "# Save model\n",
        "res_model.save('resnet.h5')"
      ]
    },
    {
      "attachments": {},
      "cell_type": "markdown",
      "metadata": {},
      "source": [
        "Evaluate the model"
      ]
    },
    {
      "cell_type": "code",
      "execution_count": 36,
      "metadata": {
        "colab": {
          "base_uri": "https://localhost:8080/"
        },
        "id": "VzjwJxjyhvSN",
        "outputId": "f0ec9fdf-7590-4532-a3ac-84d3794ae4cd"
      },
      "outputs": [
        {
          "name": "stdout",
          "output_type": "stream",
          "text": [
            "125/125 [==============================] - 6s 46ms/step\n",
            "Resnet Classification Report:\n",
            "               precision    recall  f1-score   support\n",
            "\n",
            "           0       0.54      0.04      0.08      1000\n",
            "           1       0.43      0.87      0.57      1000\n",
            "           2       0.71      0.65      0.68      1000\n",
            "           3       0.67      0.66      0.67      1000\n",
            "\n",
            "    accuracy                           0.56      4000\n",
            "   macro avg       0.59      0.55      0.50      4000\n",
            "weighted avg       0.59      0.56      0.50      4000\n",
            "\n",
            "AUC: 0.8436456666666666\n"
          ]
        }
      ],
      "source": [
        "# First, get the probabilities\n",
        "test_pred_probs = res_model.predict(test_images)\n",
        "\n",
        "# Then, convert the probabilities to class labels\n",
        "test_pred_classes = argmax(test_pred_probs, axis=1)\n",
        "\n",
        "# Getting the classification report\n",
        "print(\"Resnet Classification Report:\\n\", classification_report(argmax(test_labels, axis=1), test_pred_classes))  # Convert one-hot to integers\n",
        "\n",
        "# Calculating ROC AUC\n",
        "roc_auc = roc_auc_score(argmax(test_labels, axis=1), test_pred_probs, multi_class='ovr')\n",
        "print(\"AUC:\", roc_auc)"
      ]
    },
    {
      "attachments": {},
      "cell_type": "markdown",
      "metadata": {},
      "source": [
        "### LeNet-5"
      ]
    },
    {
      "cell_type": "code",
      "execution_count": 37,
      "metadata": {},
      "outputs": [
        {
          "name": "stdout",
          "output_type": "stream",
          "text": [
            "Epoch 1/10\n",
            "250/250 [==============================] - 3s 10ms/step - loss: 0.9582 - accuracy: 0.5610 - val_loss: 0.7919 - val_accuracy: 0.6320\n",
            "Epoch 2/10\n",
            "250/250 [==============================] - 2s 9ms/step - loss: 0.7541 - accuracy: 0.6608 - val_loss: 0.6943 - val_accuracy: 0.6925\n",
            "Epoch 3/10\n",
            "250/250 [==============================] - 2s 9ms/step - loss: 0.6887 - accuracy: 0.6951 - val_loss: 0.6926 - val_accuracy: 0.6982\n",
            "Epoch 4/10\n",
            "250/250 [==============================] - 2s 9ms/step - loss: 0.6450 - accuracy: 0.7133 - val_loss: 0.6568 - val_accuracy: 0.7165\n",
            "Epoch 5/10\n",
            "250/250 [==============================] - 2s 9ms/step - loss: 0.6092 - accuracy: 0.7326 - val_loss: 0.6296 - val_accuracy: 0.7305\n",
            "Epoch 6/10\n",
            "250/250 [==============================] - 2s 9ms/step - loss: 0.5833 - accuracy: 0.7416 - val_loss: 0.6175 - val_accuracy: 0.7330\n",
            "Epoch 7/10\n",
            "250/250 [==============================] - 2s 9ms/step - loss: 0.5736 - accuracy: 0.7503 - val_loss: 0.5958 - val_accuracy: 0.7442\n",
            "Epoch 8/10\n",
            "250/250 [==============================] - 2s 9ms/step - loss: 0.5388 - accuracy: 0.7644 - val_loss: 0.6013 - val_accuracy: 0.7435\n",
            "Epoch 9/10\n",
            "250/250 [==============================] - 2s 9ms/step - loss: 0.5191 - accuracy: 0.7733 - val_loss: 0.5967 - val_accuracy: 0.7498\n",
            "Epoch 10/10\n",
            "250/250 [==============================] - 2s 9ms/step - loss: 0.4926 - accuracy: 0.7849 - val_loss: 0.5925 - val_accuracy: 0.7538\n"
          ]
        },
        {
          "data": {
            "text/plain": [
              "<keras.callbacks.History at 0x1ba25e66f10>"
            ]
          },
          "execution_count": 37,
          "metadata": {},
          "output_type": "execute_result"
        }
      ],
      "source": [
        "\n",
        "# Model architecture\n",
        "lenet_model = Sequential([\n",
        "    Conv2D(6, (5, 5), activation='relu', input_shape=(32, 32, 3)),\n",
        "    AveragePooling2D(),\n",
        "    Conv2D(16, (5, 5), activation='relu'),\n",
        "    AveragePooling2D(),\n",
        "    Flatten(),\n",
        "    Dense(120, activation='relu'),\n",
        "    Dense(84, activation='relu'),\n",
        "    Dense(4, activation='softmax')\n",
        "])\n",
        "\n",
        "# Compile the model\n",
        "lenet_model.compile(optimizer='adam',\n",
        "              loss=tf.keras.losses.CategoricalCrossentropy(from_logits=False),  # We are not using logits but softmax in the last layer\n",
        "              metrics=['accuracy'])\n",
        "\n",
        "# Train the model\n",
        "lenet_model.fit(train_images, train_labels, epochs=10, batch_size=64, validation_split=0.2)\n",
        "\n",
        "# Save model\n",
        "lenet_model.save('lenet.h5')"
      ]
    },
    {
      "attachments": {},
      "cell_type": "markdown",
      "metadata": {},
      "source": [
        "Evaluate the model"
      ]
    },
    {
      "cell_type": "code",
      "execution_count": 25,
      "metadata": {},
      "outputs": [
        {
          "name": "stdout",
          "output_type": "stream",
          "text": [
            "125/125 [==============================] - 0s 1ms/step\n",
            "LeNet 5 Classification Report:\n",
            "               precision    recall  f1-score   support\n",
            "\n",
            "           0       0.61      0.58      0.60      1000\n",
            "           1       0.65      0.68      0.66      1000\n",
            "           2       0.83      0.84      0.83      1000\n",
            "           3       0.88      0.87      0.87      1000\n",
            "\n",
            "    accuracy                           0.74      4000\n",
            "   macro avg       0.74      0.74      0.74      4000\n",
            "weighted avg       0.74      0.74      0.74      4000\n",
            "\n",
            "AUC: 0.9290319166666666\n"
          ]
        }
      ],
      "source": [
        "# First, get the probabilities\n",
        "test_pred_probs = lenet_model.predict(test_images)\n",
        "\n",
        "# Then, convert the probabilities to class labels\n",
        "test_pred_classes = argmax(test_pred_probs, axis=1)\n",
        "\n",
        "# Getting the classification report\n",
        "print(\"LeNet 5 Classification Report:\\n\", classification_report(argmax(test_labels, axis=1), test_pred_classes))  # Convert one-hot to integers\n",
        "\n",
        "# Calculating ROC AUC\n",
        "roc_auc = roc_auc_score(argmax(test_labels, axis=1), test_pred_probs, multi_class='ovr')\n",
        "print(\"AUC:\", roc_auc)"
      ]
    },
    {
      "attachments": {},
      "cell_type": "markdown",
      "metadata": {
        "id": "tS228U9Ilqfw"
      },
      "source": [
        "### VGG-16"
      ]
    },
    {
      "cell_type": "code",
      "execution_count": 21,
      "metadata": {
        "colab": {
          "base_uri": "https://localhost:8080/"
        },
        "id": "QDeaKk-Tls_a",
        "outputId": "2a26a1ea-b72e-4a23-ba5c-fac5f6074c85"
      },
      "outputs": [
        {
          "name": "stdout",
          "output_type": "stream",
          "text": [
            "Epoch 1/10\n",
            "250/250 [==============================] - 90s 355ms/step - loss: 1.3966 - accuracy: 0.2539 - val_loss: 1.3807 - val_accuracy: 0.2475\n",
            "Epoch 2/10\n",
            "250/250 [==============================] - 87s 347ms/step - loss: 1.3869 - accuracy: 0.2533 - val_loss: 1.3863 - val_accuracy: 0.2500\n",
            "Epoch 3/10\n",
            "250/250 [==============================] - 88s 352ms/step - loss: 1.3865 - accuracy: 0.2469 - val_loss: 1.3856 - val_accuracy: 0.2475\n",
            "Epoch 4/10\n",
            "250/250 [==============================] - 88s 350ms/step - loss: 1.3866 - accuracy: 0.2479 - val_loss: 1.3863 - val_accuracy: 0.2500\n",
            "Epoch 5/10\n",
            "250/250 [==============================] - 88s 352ms/step - loss: 1.3864 - accuracy: 0.2498 - val_loss: 1.3864 - val_accuracy: 0.2500\n",
            "Epoch 6/10\n",
            "250/250 [==============================] - 88s 352ms/step - loss: 1.3864 - accuracy: 0.2467 - val_loss: 1.3863 - val_accuracy: 0.2500\n",
            "Epoch 7/10\n",
            "250/250 [==============================] - 88s 351ms/step - loss: 1.3864 - accuracy: 0.2455 - val_loss: 1.3863 - val_accuracy: 0.2500\n",
            "Epoch 8/10\n",
            "250/250 [==============================] - 89s 356ms/step - loss: 1.3864 - accuracy: 0.2486 - val_loss: 1.3863 - val_accuracy: 0.2500\n",
            "Epoch 9/10\n",
            "250/250 [==============================] - 88s 354ms/step - loss: 1.3864 - accuracy: 0.2462 - val_loss: 1.3863 - val_accuracy: 0.2500\n",
            "Epoch 10/10\n",
            "250/250 [==============================] - 87s 347ms/step - loss: 1.3864 - accuracy: 0.2479 - val_loss: 1.3863 - val_accuracy: 0.2475\n"
          ]
        },
        {
          "data": {
            "text/plain": [
              "<keras.callbacks.History at 0x1ba0d2c8e90>"
            ]
          },
          "execution_count": 21,
          "metadata": {},
          "output_type": "execute_result"
        }
      ],
      "source": [
        "vgg_model = Sequential([\n",
        "    Conv2D(64, (3, 3), activation='relu', padding='same', input_shape=(32, 32, 3)),\n",
        "    Conv2D(64, (3, 3), activation='relu', padding='same'),\n",
        "    MaxPooling2D((2, 2)),\n",
        "    Conv2D(128, (3, 3), activation='relu', padding='same'),\n",
        "    Conv2D(128, (3, 3), activation='relu', padding='same'),\n",
        "    MaxPooling2D((2, 2)),\n",
        "    Conv2D(256, (3, 3), activation='relu', padding='same'),\n",
        "    Conv2D(256, (3, 3), activation='relu', padding='same'),\n",
        "    Conv2D(256, (3, 3), activation='relu', padding='same'),\n",
        "    MaxPooling2D((2, 2)),\n",
        "    Flatten(),\n",
        "    Dense(4096, activation='relu'),\n",
        "    Dropout(0.5),\n",
        "    Dense(4096, activation='relu'),\n",
        "    Dropout(0.5),\n",
        "    Dense(4096, activation='relu'),\n",
        "    Dense(4, activation='softmax')  # 4 classes\n",
        "])\n",
        "\n",
        "# Compile the model\n",
        "vgg_model.compile(optimizer='adam',\n",
        "              loss=tf.keras.losses.CategoricalCrossentropy(from_logits=False),\n",
        "              metrics=['accuracy'])\n",
        "\n",
        "# Train the model\n",
        "vgg_model.fit(train_images, train_labels, epochs=10, batch_size=64, validation_split=0.2)\n",
        "\n",
        "# Save model\n",
        "vgg_model.save('vgg.h5')\n"
      ]
    },
    {
      "attachments": {},
      "cell_type": "markdown",
      "metadata": {},
      "source": [
        "Evaluate the model"
      ]
    },
    {
      "cell_type": "code",
      "execution_count": 23,
      "metadata": {},
      "outputs": [
        {
          "name": "stdout",
          "output_type": "stream",
          "text": [
            "125/125 [==============================] - 4s 34ms/step\n",
            "Resnet Classification Report:\n",
            "               precision    recall  f1-score   support\n",
            "\n",
            "           0       0.00      0.00      0.00      1000\n",
            "           1       0.00      0.00      0.00      1000\n",
            "           2       0.00      0.00      0.00      1000\n",
            "           3       0.25      1.00      0.40      1000\n",
            "\n",
            "    accuracy                           0.25      4000\n",
            "   macro avg       0.06      0.25      0.10      4000\n",
            "weighted avg       0.06      0.25      0.10      4000\n",
            "\n",
            "AUC: 0.5\n"
          ]
        },
        {
          "name": "stderr",
          "output_type": "stream",
          "text": [
            "C:\\Users\\30640\\AppData\\Local\\Packages\\PythonSoftwareFoundation.Python.3.11_qbz5n2kfra8p0\\LocalCache\\local-packages\\Python311\\site-packages\\sklearn\\metrics\\_classification.py:1344: UndefinedMetricWarning: Precision and F-score are ill-defined and being set to 0.0 in labels with no predicted samples. Use `zero_division` parameter to control this behavior.\n",
            "  _warn_prf(average, modifier, msg_start, len(result))\n",
            "C:\\Users\\30640\\AppData\\Local\\Packages\\PythonSoftwareFoundation.Python.3.11_qbz5n2kfra8p0\\LocalCache\\local-packages\\Python311\\site-packages\\sklearn\\metrics\\_classification.py:1344: UndefinedMetricWarning: Precision and F-score are ill-defined and being set to 0.0 in labels with no predicted samples. Use `zero_division` parameter to control this behavior.\n",
            "  _warn_prf(average, modifier, msg_start, len(result))\n",
            "C:\\Users\\30640\\AppData\\Local\\Packages\\PythonSoftwareFoundation.Python.3.11_qbz5n2kfra8p0\\LocalCache\\local-packages\\Python311\\site-packages\\sklearn\\metrics\\_classification.py:1344: UndefinedMetricWarning: Precision and F-score are ill-defined and being set to 0.0 in labels with no predicted samples. Use `zero_division` parameter to control this behavior.\n",
            "  _warn_prf(average, modifier, msg_start, len(result))\n"
          ]
        }
      ],
      "source": [
        "# First, get the probabilities\n",
        "test_pred_probs = vgg_model.predict(test_images)\n",
        "\n",
        "# Then, convert the probabilities to class labels\n",
        "test_pred_classes = argmax(test_pred_probs, axis=1)\n",
        "\n",
        "# Getting the classification report\n",
        "print(\"Resnet Classification Report:\\n\", classification_report(argmax(test_labels, axis=1), test_pred_classes))  # Convert one-hot to integers\n",
        "\n",
        "# Calculating ROC AUC\n",
        "roc_auc = roc_auc_score(argmax(test_labels, axis=1), test_pred_probs, multi_class='ovr')\n",
        "print(\"AUC:\", roc_auc)"
      ]
    },
    {
      "attachments": {},
      "cell_type": "markdown",
      "metadata": {},
      "source": [
        "## CNN Tuning"
      ]
    },
    {
      "cell_type": "code",
      "execution_count": 4,
      "metadata": {
        "colab": {
          "base_uri": "https://localhost:8080/",
          "height": 436
        },
        "id": "LZ0b-k1nwy0V",
        "outputId": "a720b3e3-0d21-458e-b52d-bf34a2f886aa"
      },
      "outputs": [
        {
          "name": "stderr",
          "output_type": "stream",
          "text": [
            "C:\\Users\\30640\\AppData\\Local\\Temp\\ipykernel_18304\\2924262900.py:19: DeprecationWarning: KerasClassifier is deprecated, use Sci-Keras (https://github.com/adriangb/scikeras) instead. See https://www.adriangb.com/scikeras/stable/migration.html for help migrating.\n",
            "  model = KerasClassifier(build_fn=create_model, verbose=3)\n"
          ]
        },
        {
          "name": "stdout",
          "output_type": "stream",
          "text": [
            "Epoch 1/10\n",
            "Epoch 2/10\n",
            "Epoch 3/10\n",
            "Epoch 4/10\n",
            "Epoch 5/10\n",
            "Epoch 6/10\n",
            "Epoch 7/10\n",
            "Epoch 8/10\n",
            "Epoch 9/10\n",
            "Epoch 10/10\n",
            "Best: 0.789101 using {'batch_size': 60, 'epochs': 10}\n"
          ]
        }
      ],
      "source": [
        "\n",
        "\n",
        "\n",
        "def create_model():\n",
        "    model = Sequential([\n",
        "        Conv2D(32, (3, 3), activation='relu', input_shape=(32, 32, 3)),\n",
        "        MaxPooling2D((2, 2)),\n",
        "        Conv2D(64, (3, 3), activation='relu'),\n",
        "        MaxPooling2D((2, 2)),\n",
        "        Conv2D(64, (3, 3), activation='relu'),\n",
        "        Flatten(),\n",
        "        Dense(64, activation='relu'),\n",
        "        Dense(4)  # 4 classes\n",
        "    ])\n",
        "    model.compile(optimizer='adam', loss=tf.keras.losses.CategoricalCrossentropy(from_logits=True), metrics=['accuracy'])\n",
        "    return model\n",
        "\n",
        "# create model\n",
        "model = KerasClassifier(build_fn=create_model, verbose=3)\n",
        "\n",
        "# define the grid search parameters\n",
        "batch_size = [20, 60]\n",
        "epochs = [10, 50]\n",
        "param_grid = dict(batch_size=batch_size, epochs=epochs)\n",
        "\n",
        "# Perform Grid Search\n",
        "grid = GridSearchCV(estimator=model, param_grid=param_grid, n_jobs=-1, cv=3)\n",
        "grid_result = grid.fit(train_images, train_labels)\n",
        "\n",
        "# summarize results\n",
        "print(\"Best: %f using %s\" % (grid_result.best_score_, grid_result.best_params_))\n",
        "\n",
        "# Predicting the classes\n",
        "test_pred = grid.predict(test_images)\n",
        "\n",
        "# Getting the classification report\n",
        "print(\"Classification Report:\\n\", classification_report(argmax(test_labels, axis=1), test_pred))  # Convert one-hot to integers\n",
        "\n",
        "# Calculating ROC AUC\n",
        "roc_auc = roc_auc_score(argmax(test_labels, axis=1), grid.predict_proba(test_images), multi_class='ovr')\n",
        "print(\"AUC:\", roc_auc)"
      ]
    },
    {
      "cell_type": "code",
      "execution_count": null,
      "metadata": {},
      "outputs": [],
      "source": [
        "tuned_cnn_test_loss, tuned_cnn_test_acc"
      ]
    },
    {
      "attachments": {},
      "cell_type": "markdown",
      "metadata": {},
      "source": [
        "## Test image\n"
      ]
    },
    {
      "cell_type": "code",
      "execution_count": 15,
      "metadata": {
        "colab": {
          "base_uri": "https://localhost:8080/",
          "height": 465
        },
        "id": "-uCZIIVOQNAo",
        "outputId": "4a86492c-989e-47d6-93b9-aadf5bd93eaf"
      },
      "outputs": [
        {
          "name": "stdout",
          "output_type": "stream",
          "text": [
            "1/1 [==============================] - 0s 26ms/step\n",
            "The image is classified as: Cat\n"
          ]
        },
        {
          "data": {
            "image/png": "[encoded data removed]",
            "text/plain": [
              "<Figure size 640x480 with 1 Axes>"
            ]
          },
          "metadata": {},
          "output_type": "display_data"
        }
      ],
      "source": [
        "# Load the image\n",
        "img_path = 'cat2.jpg'  # replace with your image path\n",
        "img = image.load_img(img_path, target_size=(32, 32))\n",
        "\n",
        "# Convert the image to a numpy array\n",
        "x = image.img_to_array(img)\n",
        "\n",
        "# Normalize the image\n",
        "x = x / 255.0\n",
        "\n",
        "# Add a dimension to transform the array into a \"batch\" of size (1, 32, 32, 3)\n",
        "x = np.expand_dims(x, axis=0)\n",
        "\n",
        "# Perform the prediction\n",
        "preds = model.predict(x)\n",
        "\n",
        "# Decode the prediction\n",
        "pred_class = np.argmax(preds[0])\n",
        "\n",
        "# Map the label index to the corresponding class\n",
        "label_map = {0: 'Cat', 1: 'Dog', 2: 'Airplane', 3: 'Automobile'}  # adjust this to your classes\n",
        "print(f'The image is classified as: {label_map[pred_class]}')\n",
        "\n",
        "imgplot = plt.imshow(img)\n",
        "plt.show()"
      ]
    },
    {
      "cell_type": "code",
      "execution_count": null,
      "metadata": {},
      "outputs": [],
      "source": [
        "# Load the model\n",
        "with CustomObjectScope({'dice_coef': dice_coef}):\n",
        "    model = load_model('cnn.h5')"
      ]
    }
  ],
  "metadata": {
    "colab": {
      "provenance": []
    },
    "kernelspec": {
      "display_name": "Python 3",
      "name": "python3"
    },
    "language_info": {
      "codemirror_mode": {
        "name": "ipython",
        "version": 3
      },
      "file_extension": ".py",
      "mimetype": "text/x-python",
      "name": "python",
      "nbconvert_exporter": "python",
      "pygments_lexer": "ipython3",
      "version": "3.11.3"
    }
  },
  "nbformat": 4,
  "nbformat_minor": 0
}
